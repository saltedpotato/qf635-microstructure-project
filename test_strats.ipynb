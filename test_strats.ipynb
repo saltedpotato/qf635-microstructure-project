{
 "cells": [
  {
   "metadata": {},
   "cell_type": "markdown",
   "source": "# Import files",
   "id": "7f5e4ad477aa1183"
  },
  {
   "metadata": {
    "ExecuteTime": {
     "end_time": "2025-06-02T05:48:41.568534Z",
     "start_time": "2025-06-02T05:48:41.556432Z"
    }
   },
   "cell_type": "code",
   "source": [
    "from Utils.BinancePriceFetcher import *\n",
    "from statsmodels.tsa.stattools import coint\n"
   ],
   "id": "ed0df795a962cf3f",
   "outputs": [],
   "execution_count": 24
  },
  {
   "metadata": {
    "ExecuteTime": {
     "end_time": "2025-06-02T05:51:35.909470Z",
     "start_time": "2025-06-02T05:51:35.788262Z"
    }
   },
   "cell_type": "code",
   "source": [
    "# Get all available tickers\n",
    "response = requests.get(f\"{BASE_URL}/ticker/price\")\n",
    "data = response.json()\n",
    "tickers = [i[\"symbol\"] for i in data]"
   ],
   "id": "10a9e27731e7c064",
   "outputs": [],
   "execution_count": 31
  },
  {
   "metadata": {
    "ExecuteTime": {
     "end_time": "2025-06-02T05:51:11.379228Z",
     "start_time": "2025-06-02T05:51:11.371816Z"
    }
   },
   "cell_type": "code",
   "source": [
    "def coint_test(p1, p2):\n",
    "    score, p_value, _ = coint(p1, p2)\n",
    "    if p_value < 0.05:\n",
    "        return True\n",
    "    else:\n",
    "        return False\n"
   ],
   "id": "4e0509151ce81acd",
   "outputs": [],
   "execution_count": 28
  },
  {
   "metadata": {},
   "cell_type": "code",
   "outputs": [],
   "execution_count": null,
   "source": [
    "manager = BinanceSymbolManager()\n",
    "manager.add_symbol(\"BTCUSDT\")"
   ],
   "id": "a6bfbcfc6c3fa020"
  }
 ],
 "metadata": {
  "kernelspec": {
   "display_name": "Python 3",
   "language": "python",
   "name": "python3"
  },
  "language_info": {
   "codemirror_mode": {
    "name": "ipython",
    "version": 2
   },
   "file_extension": ".py",
   "mimetype": "text/x-python",
   "name": "python",
   "nbconvert_exporter": "python",
   "pygments_lexer": "ipython2",
   "version": "2.7.6"
  }
 },
 "nbformat": 4,
 "nbformat_minor": 5
}

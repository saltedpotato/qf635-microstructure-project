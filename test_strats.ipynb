{
 "cells": [
  {
   "metadata": {},
   "cell_type": "markdown",
   "source": "# Import files",
   "id": "7f5e4ad477aa1183"
  },
  {
   "metadata": {
    "ExecuteTime": {
     "end_time": "2025-06-02T06:22:07.609177Z",
     "start_time": "2025-06-02T06:22:06.128822Z"
    }
   },
   "cell_type": "code",
   "source": [
    "from Utils.BinancePriceFetcher import *\n",
    "from statsmodels.tsa.stattools import coint\n",
    "from itertools import combinations\n",
    "from tqdm import tqdm\n",
    "\n"
   ],
   "id": "ed0df795a962cf3f",
   "outputs": [],
   "execution_count": 1
  },
  {
   "metadata": {
    "ExecuteTime": {
     "end_time": "2025-06-02T06:22:12.621928Z",
     "start_time": "2025-06-02T06:22:12.479744Z"
    }
   },
   "cell_type": "code",
   "source": [
    "# Get all available tickers\n",
    "response = requests.get(f\"{BASE_URL}/ticker/price\")\n",
    "data = response.json()\n",
    "tickers = [i[\"symbol\"] for i in data]"
   ],
   "id": "10a9e27731e7c064",
   "outputs": [],
   "execution_count": 2
  },
  {
   "metadata": {
    "ExecuteTime": {
     "end_time": "2025-06-02T06:22:13.326874Z",
     "start_time": "2025-06-02T06:22:13.319695Z"
    }
   },
   "cell_type": "code",
   "source": [
    "def coint_test(p1, p2):\n",
    "    score, p_value, _ = coint(p1, p2)\n",
    "    if p_value < 0.05:\n",
    "        return True\n",
    "    else:\n",
    "        return False\n"
   ],
   "id": "4e0509151ce81acd",
   "outputs": [],
   "execution_count": 3
  },
  {
   "metadata": {
    "ExecuteTime": {
     "end_time": "2025-06-02T06:27:07.262757Z",
     "start_time": "2025-06-02T06:27:07.251643Z"
    }
   },
   "cell_type": "code",
   "source": [
    "def get_coint_pairs(tickers, r=2, interval = '1d', start_date=\"2023-01-01\", end_date=\"2023-12-31\"):\n",
    "    all_pairs = list(combinations(tickers, r))\n",
    "    coint_pairs = []\n",
    "    for pair in tqdm(all_pairs):\n",
    "        try:\n",
    "            price_fetcher = BinancePriceFetcher(pair) #Initialise price fetcher\n",
    "            prices = price_fetcher.get_grp_historical_ohlcv(\n",
    "                interval=interval,\n",
    "                start_date=start_date,\n",
    "                end_date=end_date\n",
    "            )\n",
    "\n",
    "            # To prevent survivorship bias\n",
    "            prices = prices.dropna()\n",
    "\n",
    "            if coint_test(prices[pair[0]], prices[pair[1]]):\n",
    "                coint_pairs += [pair]\n",
    "        except KeyError:\n",
    "            continue\n",
    "    return coint_pairs\n"
   ],
   "id": "cdcb1485ede862bd",
   "outputs": [],
   "execution_count": 23
  },
  {
   "metadata": {
    "jupyter": {
     "is_executing": true
    },
    "ExecuteTime": {
     "start_time": "2025-06-02T06:27:09.628977Z"
    }
   },
   "cell_type": "code",
   "source": "coint_pairs = get_coint_pairs(tickers)",
   "id": "a6bfbcfc6c3fa020",
   "outputs": [
    {
     "name": "stderr",
     "output_type": "stream",
     "text": [
      "  0%|          | 18/4896885 [00:07<474:22:50,  2.87it/s]"
     ]
    }
   ],
   "execution_count": null
  },
  {
   "metadata": {},
   "cell_type": "code",
   "outputs": [],
   "execution_count": null,
   "source": "",
   "id": "3178473f6fb19d16"
  },
  {
   "metadata": {},
   "cell_type": "code",
   "outputs": [],
   "execution_count": null,
   "source": "",
   "id": "1936a6ed65bdfd9c"
  },
  {
   "metadata": {},
   "cell_type": "code",
   "outputs": [],
   "execution_count": null,
   "source": "",
   "id": "b1ea1a7d4418cb3d"
  },
  {
   "metadata": {},
   "cell_type": "code",
   "outputs": [],
   "execution_count": null,
   "source": "",
   "id": "944023732c0c52ba"
  }
 ],
 "metadata": {
  "kernelspec": {
   "display_name": "Python 3",
   "language": "python",
   "name": "python3"
  },
  "language_info": {
   "codemirror_mode": {
    "name": "ipython",
    "version": 2
   },
   "file_extension": ".py",
   "mimetype": "text/x-python",
   "name": "python",
   "nbconvert_exporter": "python",
   "pygments_lexer": "ipython2",
   "version": "2.7.6"
  }
 },
 "nbformat": 4,
 "nbformat_minor": 5
}

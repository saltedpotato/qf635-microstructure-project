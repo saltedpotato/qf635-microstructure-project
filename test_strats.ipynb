{
 "cells": [
  {
   "cell_type": "markdown",
   "id": "7f5e4ad477aa1183",
   "metadata": {},
   "source": [
    "# Import files"
   ]
  },
  {
   "cell_type": "code",
   "execution_count": 1,
   "id": "ed0df795a962cf3f",
   "metadata": {
    "ExecuteTime": {
     "end_time": "2025-06-22T06:13:15.529387Z",
     "start_time": "2025-06-22T06:13:15.515632Z"
    }
   },
   "outputs": [],
   "source": [
    "from Strats.PairTradingStrat import *\n",
    "from Strats.PortfolioMetrics import *\n",
    "from Strats.WRC import *\n",
    "\n",
    "import warnings\n",
    "\n",
    "warnings.filterwarnings(\"ignore\")"
   ]
  },
  {
   "cell_type": "markdown",
   "id": "eec7207a18971156",
   "metadata": {},
   "source": [
    "# Run Strats"
   ]
  },
  {
   "cell_type": "code",
   "execution_count": 2,
   "id": "10a9e27731e7c064",
   "metadata": {
    "ExecuteTime": {
     "end_time": "2025-06-22T06:13:18.287286Z",
     "start_time": "2025-06-22T06:13:17.847320Z"
    }
   },
   "outputs": [],
   "source": [
    "# Get all available tickers\n",
    "response = requests.get(f\"{BASE_URL}/ticker/price\")\n",
    "data = response.json()\n",
    "BTC_pairs = [i[\"symbol\"] for i in data if \"BTC\" in i[\"symbol\"]]\n"
   ]
  },
  {
   "cell_type": "code",
   "execution_count": 11,
   "id": "9ab800457351256f",
   "metadata": {},
   "outputs": [
    {
     "name": "stderr",
     "output_type": "stream",
     "text": [
      "100%|██████████| 524/524 [16:11<00:00,  1.85s/it]\n"
     ]
    },
    {
     "data": {
      "text/plain": [
       "62"
      ]
     },
     "execution_count": 11,
     "metadata": {},
     "output_type": "execute_result"
    }
   ],
   "source": [
    "coint_pairs = get_coint_pairs(BTC_pairs, interval = '5m', start_date=\"2024-01-01\", end_date=\"2024-01-31\")\n",
    "len(coint_pairs)"
   ]
  },
  {
   "cell_type": "code",
   "execution_count": 102,
   "id": "dac57b96d668d493",
   "metadata": {
    "ExecuteTime": {
     "end_time": "2025-06-22T06:25:27.556714Z",
     "start_time": "2025-06-22T06:23:40.082958Z"
    }
   },
   "outputs": [
    {
     "name": "stdout",
     "output_type": "stream",
     "text": [
      "['BTCUSDT', 'ETHUSDT']\n",
      "'BTCUSDT' added successfully.\n",
      "'ETHUSDT' added successfully.\n"
     ]
    },
    {
     "data": {
      "text/html": [
       "<div>\n",
       "<style scoped>\n",
       "    .dataframe tbody tr th:only-of-type {\n",
       "        vertical-align: middle;\n",
       "    }\n",
       "\n",
       "    .dataframe tbody tr th {\n",
       "        vertical-align: top;\n",
       "    }\n",
       "\n",
       "    .dataframe thead th {\n",
       "        text-align: right;\n",
       "    }\n",
       "</style>\n",
       "<table border=\"1\" class=\"dataframe\">\n",
       "  <thead>\n",
       "    <tr style=\"text-align: right;\">\n",
       "      <th></th>\n",
       "      <th>timestamp</th>\n",
       "      <th>BTCUSDT</th>\n",
       "      <th>ETHUSDT</th>\n",
       "    </tr>\n",
       "  </thead>\n",
       "  <tbody>\n",
       "    <tr>\n",
       "      <th>0</th>\n",
       "      <td>2024-11-01 00:00:00</td>\n",
       "      <td>70349.67</td>\n",
       "      <td>2522.94</td>\n",
       "    </tr>\n",
       "    <tr>\n",
       "      <th>1</th>\n",
       "      <td>2024-11-01 00:05:00</td>\n",
       "      <td>70382.00</td>\n",
       "      <td>2524.90</td>\n",
       "    </tr>\n",
       "    <tr>\n",
       "      <th>2</th>\n",
       "      <td>2024-11-01 00:10:00</td>\n",
       "      <td>70461.99</td>\n",
       "      <td>2527.19</td>\n",
       "    </tr>\n",
       "    <tr>\n",
       "      <th>3</th>\n",
       "      <td>2024-11-01 00:15:00</td>\n",
       "      <td>70453.75</td>\n",
       "      <td>2527.86</td>\n",
       "    </tr>\n",
       "    <tr>\n",
       "      <th>4</th>\n",
       "      <td>2024-11-01 00:20:00</td>\n",
       "      <td>70398.96</td>\n",
       "      <td>2525.93</td>\n",
       "    </tr>\n",
       "    <tr>\n",
       "      <th>...</th>\n",
       "      <td>...</td>\n",
       "      <td>...</td>\n",
       "      <td>...</td>\n",
       "    </tr>\n",
       "    <tr>\n",
       "      <th>17276</th>\n",
       "      <td>2024-12-30 23:40:00</td>\n",
       "      <td>92756.49</td>\n",
       "      <td>3363.79</td>\n",
       "    </tr>\n",
       "    <tr>\n",
       "      <th>17277</th>\n",
       "      <td>2024-12-30 23:45:00</td>\n",
       "      <td>92725.99</td>\n",
       "      <td>3364.12</td>\n",
       "    </tr>\n",
       "    <tr>\n",
       "      <th>17278</th>\n",
       "      <td>2024-12-30 23:50:00</td>\n",
       "      <td>92789.83</td>\n",
       "      <td>3362.51</td>\n",
       "    </tr>\n",
       "    <tr>\n",
       "      <th>17279</th>\n",
       "      <td>2024-12-30 23:55:00</td>\n",
       "      <td>92792.05</td>\n",
       "      <td>3361.84</td>\n",
       "    </tr>\n",
       "    <tr>\n",
       "      <th>17280</th>\n",
       "      <td>2024-12-31 00:00:00</td>\n",
       "      <td>92782.39</td>\n",
       "      <td>3357.49</td>\n",
       "    </tr>\n",
       "  </tbody>\n",
       "</table>\n",
       "<p>17281 rows × 3 columns</p>\n",
       "</div>"
      ],
      "text/plain": [
       "                timestamp   BTCUSDT  ETHUSDT\n",
       "0     2024-11-01 00:00:00  70349.67  2522.94\n",
       "1     2024-11-01 00:05:00  70382.00  2524.90\n",
       "2     2024-11-01 00:10:00  70461.99  2527.19\n",
       "3     2024-11-01 00:15:00  70453.75  2527.86\n",
       "4     2024-11-01 00:20:00  70398.96  2525.93\n",
       "...                   ...       ...      ...\n",
       "17276 2024-12-30 23:40:00  92756.49  3363.79\n",
       "17277 2024-12-30 23:45:00  92725.99  3364.12\n",
       "17278 2024-12-30 23:50:00  92789.83  3362.51\n",
       "17279 2024-12-30 23:55:00  92792.05  3361.84\n",
       "17280 2024-12-31 00:00:00  92782.39  3357.49\n",
       "\n",
       "[17281 rows x 3 columns]"
      ]
     },
     "execution_count": 102,
     "metadata": {},
     "output_type": "execute_result"
    }
   ],
   "source": [
    "test_pairs = coint_pairs[:4]\n",
    "test_pairs = ['BTCUSDT', 'ETHUSDT']\n",
    "print(test_pairs)\n",
    "\n",
    "symbol_manager = BinanceSymbolManager()\n",
    "# Add symbols\n",
    "for t in test_pairs:\n",
    "    print(symbol_manager.add_symbol(t))  # Success\n",
    "\n",
    "price_fetcher = BinancePriceFetcher(symbol_manager.get_symbols())\n",
    "# Fetch pair historical price\n",
    "pair_portfolio = price_fetcher.get_grp_historical_ohlcv(\n",
    "        interval=\"5m\",\n",
    "        start_date=\"2024-11-01\",\n",
    "        end_date=\"2024-12-31\"\n",
    "    )\n",
    "\n",
    "pair_portfolio"
   ]
  },
  {
   "cell_type": "code",
   "execution_count": 103,
   "id": "ab0a465a4ddbab73",
   "metadata": {
    "ExecuteTime": {
     "end_time": "2025-06-22T07:22:13.363674Z",
     "start_time": "2025-06-22T07:22:13.343122Z"
    }
   },
   "outputs": [],
   "source": [
    "def hurst_exponent(ts: pd.Series, max_lags: int = 50) -> float:\n",
    "    \"\"\"\n",
    "    Calculate the Hurst Exponent of a time series.\n",
    "        \n",
    "    Args:\n",
    "        time_series (pd.Series): Input time series (e.g., stock prices, spreads).\n",
    "        max_lags (int): Maximum number of lags to compute rescaled range (R/S).\n",
    "        \n",
    "    Returns:\n",
    "        float: Hurst Exponent value.\n",
    "    \"\"\"\n",
    "    # Create the range of lag values\n",
    "    lags = range(2, 100)\n",
    "\n",
    "    # Calculate the array of the variances of the lagged differences\n",
    "    tau = [np.sqrt(np.std(np.subtract(ts[lag:], ts[:-lag]))) for lag in lags]\n",
    "\n",
    "    # Use a linear fit to estimate the Hurst Exponent\n",
    "    poly = np.polyfit(np.log(lags), np.log(tau), 1)\n",
    "\n",
    "    # Return the Hurst exponent from the polyfit output\n",
    "    return poly[0]*2.0\n",
    "\n",
    "\n",
    "class pair_trading:\n",
    "    def __init__(self, df, weights):\n",
    "        self.df = df\n",
    "        self.tickers = df.columns.tolist()[1:]\n",
    "        self.weights = weights\n",
    "\n",
    "\n",
    "    def generate_signals(self, lookback, execute_threshold, close_threshold):\n",
    "        # Calculate the rolling mean with a window size of lookback\n",
    "        for t in self.tickers:\n",
    "            self.df[t+'_rolling_mean'] = self.df[t].rolling(window=lookback).mean()\n",
    "            self.df[t+'_rolling_std'] = self.df[t].rolling(window=lookback).std()\n",
    "            self.df[t+'_z_scores'] = (self.df[t] - self.df[t+'_rolling_mean']) / self.df[t+'_rolling_std']\n",
    "            is_mean_revert = []\n",
    "            for i in range(lookback, len(self.df)):\n",
    "                if hurst_exponent(self.df[t][i-lookback:i].values) < 0.5:\n",
    "                    is_mean_revert += [1]\n",
    "                else:\n",
    "                    is_mean_revert += [0]\n",
    "            self.df[t+'_is_mean_revert'] = [0] * (len(self.df) - len(is_mean_revert)) + is_mean_revert\n",
    "            self.df[t+\"_is_mean_revert\"] = self.df[t+\"_is_mean_revert\"].fillna(0)\n",
    "\n",
    "            self.df[t+'_signal'] = np.where((self.df[t+'_z_scores'] > execute_threshold) | (self.df[t+'_z_scores'] < -execute_threshold), 1, 0)\n",
    "            self.df[t+'_signal'] = np.where(self.df[t+'_is_mean_revert'] != 1, 0, self.df[t+'_signal'])\n",
    "            # self.df.loc[self.df[t+'_z_scores'] > execute_threshold, t+'_signal'] = -1\n",
    "            # self.df.loc[self.df[t+'_z_scores'] < -execute_threshold, t+'_signal'] = 1\n",
    "\n",
    "            self.df[t+'_exit_signal'] = np.where((self.df[t+'_z_scores'] > -close_threshold) & (self.df[t+'_z_scores'] < close_threshold), 1, 0)\n",
    "            self.df[t+'_exit_signal'] = np.where(self.df[t+'_exit_signal'] != 1, 1, self.df[t+'_exit_signal'])\n",
    "\n",
    "        return self.df\n",
    "\n",
    "    def computePnL(self, ticker, test_start_date): #have not account for capital\n",
    "        trades = self.df[self.df['timestamp'] >= test_start_date].copy().reset_index(drop=True)\n",
    "        # PnL variables - one set per security\n",
    "        position = 0\n",
    "        pnlUnrealized = 0\n",
    "        pnlRealized = 0\n",
    "\n",
    "        avg_short_price = 0\n",
    "        short_pos = 0\n",
    "        avg_long_price = 0\n",
    "        long_pos = 0\n",
    "        closed_pos = 0\n",
    "\n",
    "        positions = []\n",
    "        pnlUnrealized_list = []\n",
    "        pnlRealized_list = []\n",
    "        daily_pnl = []\n",
    "        daily_pnl_pct = []\n",
    "\n",
    "        # for each trade\n",
    "        for i in range(0, len(trades)):\n",
    "            qty = trades[ticker+'_signal'][i]\n",
    "            price = trades[ticker][i]\n",
    "            exit_signal = trades[ticker+'_exit_signal'][i]\n",
    "\n",
    "            if exit_signal == 1:\n",
    "                if position != 0:\n",
    "                    qty = -position #close position\n",
    "\n",
    "            if qty < 0:\n",
    "                avg_short_price = (avg_short_price * short_pos + price * qty) / (short_pos + qty)\n",
    "                short_pos += qty\n",
    "            elif qty > 0:\n",
    "                avg_long_price = (avg_long_price * long_pos + price * qty) / (long_pos + qty)\n",
    "                long_pos += qty\n",
    "\n",
    "            if i > 0:\n",
    "                if (qty * position) < 0:\n",
    "                    closed_pos = min(abs(qty), abs(position))\n",
    "                else:\n",
    "                    closed_pos = 0\n",
    "                short_pos += closed_pos\n",
    "                long_pos -= closed_pos\n",
    "\n",
    "                if (position+qty) < 0:\n",
    "                    pnlUnrealized = (avg_short_price - price) * -(position+qty)\n",
    "                else:\n",
    "                    pnlUnrealized = (avg_long_price - price) * (position+qty)\n",
    "                # print(closed_pos)\n",
    "\n",
    "            position += qty\n",
    "            pnlRealized += (avg_short_price - avg_long_price) * closed_pos\n",
    "            daily_pnl += [(avg_short_price - avg_long_price) * closed_pos + pnlUnrealized]\n",
    "\n",
    "            positions += [position]\n",
    "            pnlUnrealized_list += [pnlUnrealized]\n",
    "            pnlRealized_list += [pnlRealized]\n",
    "            try:\n",
    "                daily_pnl_pct += [((pnlRealized+pnlUnrealized) - (pnlUnrealized_list[-2] + pnlRealized_list[-2]))/(pnlUnrealized_list[-2] + pnlRealized_list[-2]+1e-10)]\n",
    "            except:\n",
    "                daily_pnl_pct += [np.nan]\n",
    "\n",
    "            if short_pos == 0:\n",
    "                avg_short_price = 0\n",
    "            if long_pos == 0:\n",
    "                avg_long_price = 0\n",
    "\n",
    "        pnl_df = trades[[\"timestamp\", ticker, ticker+\"_signal\"]].copy()\n",
    "        pnl_df.columns = [\"Date\", \"Price\", \"Signal\"]\n",
    "        pnl_df[\"Positions\"] = positions\n",
    "        pnl_df[\"Realized_PnL\"] = pnlRealized_list\n",
    "        pnl_df[\"Unrealized_PnL\"] = pnlUnrealized_list\n",
    "        pnl_df[\"Daily_PnL\"] = daily_pnl\n",
    "        pnl_df[\"Daily_PnL_Pct\"] = daily_pnl_pct\n",
    "        pnl_df[\"PnL_Total\"] = pnl_df[\"Realized_PnL\"] + pnl_df[\"Unrealized_PnL\"]\n",
    "\n",
    "        return pnl_df\n",
    "\n",
    "    def computePortfolioPnL(self, test_start_date):\n",
    "        portfolioPnL = pd.DataFrame()\n",
    "        for ind, t in enumerate(self.tickers):\n",
    "            pnl_df = self.computePnL(t, test_start_date)\n",
    "            portfolioPnL[t+\"_daily_pnl\"] = pnl_df[\"Daily_PnL\"]\n",
    "            portfolioPnL[t+\"_daily_pnl_pct\"] = pnl_df[\"Daily_PnL_Pct\"]\n",
    "            if ind > 0:\n",
    "                portfolioPnL[\"total_daily_pnl\"] = portfolioPnL[\"total_daily_pnl\"] + portfolioPnL[t+\"_daily_pnl\"] * self.weights[ind]\n",
    "                portfolioPnL[\"total_daily_pnl_pct\"] = portfolioPnL[\"total_daily_pnl_pct\"] + portfolioPnL[t+\"_daily_pnl_pct\"] * self.weights[ind]\n",
    "                portfolioPnL[\"total_pnl\"] = portfolioPnL[\"total_pnl\"] + pnl_df[\"PnL_Total\"] * self.weights[ind]\n",
    "            else:\n",
    "                portfolioPnL[\"total_daily_pnl\"] = portfolioPnL[t+\"_daily_pnl\"] * self.weights[ind]\n",
    "                portfolioPnL[\"total_daily_pnl_pct\"] = portfolioPnL[t+\"_daily_pnl_pct\"] * self.weights[ind]\n",
    "                portfolioPnL[\"total_pnl\"] = pnl_df[\"PnL_Total\"] * self.weights[ind]\n",
    "\n",
    "        portfolioPnL[\"timestamp\"] = pnl_df[\"Date\"]\n",
    "        portfolioPnL = portfolioPnL[[\"timestamp\", \"total_daily_pnl\", \"total_daily_pnl_pct\", \"total_pnl\"]]\n",
    "\n",
    "        return portfolioPnL\n",
    "    \n",
    "    def plot_pnl(self, test_start_date):\n",
    "        fig, axs = plt.subplots(len(self.tickers)+1,1, figsize=(15,9), sharex=True)\n",
    "\n",
    "        for i, t in enumerate(self.tickers):\n",
    "            pnl_df = self.computePnL(t, test_start_date)\n",
    "            axs[i].plot(pnl_df[\"Date\"], pnl_df[\"PnL_Total\"], label=f\"{t}_PnL_Total\")\n",
    "            axs[i].set_ylabel(\"Accumulated PnL\")\n",
    "            axs[i].set_xlabel(\"Date\")\n",
    "            axs[i].legend()\n",
    "            axs[i].grid(True)\n",
    "\n",
    "        total_pnl_df = self.computePortfolioPnL(test_start_date)\n",
    "        axs[len(self.tickers)].plot(total_pnl_df[\"timestamp\"], total_pnl_df[\"total_pnl\"], label=\"Portfolio\")\n",
    "        axs[len(self.tickers)].set_ylabel(\"Accumulated PnL\")\n",
    "        axs[len(self.tickers)].set_xlabel(\"Date\")\n",
    "        axs[len(self.tickers)].legend()\n",
    "        axs[len(self.tickers)].grid(True)\n",
    "\n",
    "        plt.show()"
   ]
  },
  {
   "cell_type": "code",
   "execution_count": null,
   "id": "1b7f373ddc799179",
   "metadata": {
    "ExecuteTime": {
     "end_time": "2025-06-22T07:22:18.433777Z",
     "start_time": "2025-06-22T07:22:17.260575Z"
    }
   },
   "outputs": [],
   "source": [
    "weights = np.array([1/len(test_pairs) for i in range(len(test_pairs))])\n",
    "model = pair_trading(pair_portfolio.copy(), weights)\n",
    "spread = model.generate_signals(lookback=4320, execute_threshold=1.2, close_threshold=0.5)\n",
    "model.plot_pnl(test_start_date=\"2024-01-01\")"
   ]
  },
  {
   "cell_type": "code",
   "execution_count": null,
   "id": "2a6bb9e486b0d05a",
   "metadata": {
    "ExecuteTime": {
     "end_time": "2025-06-22T07:23:00.637556Z",
     "start_time": "2025-06-22T07:22:57.341265Z"
    }
   },
   "outputs": [
    {
     "data": {
      "text/html": [
       "<div>\n",
       "<style scoped>\n",
       "    .dataframe tbody tr th:only-of-type {\n",
       "        vertical-align: middle;\n",
       "    }\n",
       "\n",
       "    .dataframe tbody tr th {\n",
       "        vertical-align: top;\n",
       "    }\n",
       "\n",
       "    .dataframe thead th {\n",
       "        text-align: right;\n",
       "    }\n",
       "</style>\n",
       "<table border=\"1\" class=\"dataframe\">\n",
       "  <thead>\n",
       "    <tr style=\"text-align: right;\">\n",
       "      <th></th>\n",
       "      <th>timestamp</th>\n",
       "      <th>total_daily_pnl</th>\n",
       "      <th>total_daily_pnl_pct</th>\n",
       "      <th>total_pnl</th>\n",
       "    </tr>\n",
       "  </thead>\n",
       "  <tbody>\n",
       "    <tr>\n",
       "      <th>0</th>\n",
       "      <td>2024-11-01 00:00:00</td>\n",
       "      <td>0.00</td>\n",
       "      <td>NaN</td>\n",
       "      <td>0.00</td>\n",
       "    </tr>\n",
       "    <tr>\n",
       "      <th>1</th>\n",
       "      <td>2024-11-01 00:05:00</td>\n",
       "      <td>0.00</td>\n",
       "      <td>0.000000</td>\n",
       "      <td>0.00</td>\n",
       "    </tr>\n",
       "    <tr>\n",
       "      <th>2</th>\n",
       "      <td>2024-11-01 00:10:00</td>\n",
       "      <td>0.00</td>\n",
       "      <td>0.000000</td>\n",
       "      <td>0.00</td>\n",
       "    </tr>\n",
       "    <tr>\n",
       "      <th>3</th>\n",
       "      <td>2024-11-01 00:15:00</td>\n",
       "      <td>0.00</td>\n",
       "      <td>0.000000</td>\n",
       "      <td>0.00</td>\n",
       "    </tr>\n",
       "    <tr>\n",
       "      <th>4</th>\n",
       "      <td>2024-11-01 00:20:00</td>\n",
       "      <td>0.00</td>\n",
       "      <td>0.000000</td>\n",
       "      <td>0.00</td>\n",
       "    </tr>\n",
       "    <tr>\n",
       "      <th>...</th>\n",
       "      <td>...</td>\n",
       "      <td>...</td>\n",
       "      <td>...</td>\n",
       "      <td>...</td>\n",
       "    </tr>\n",
       "    <tr>\n",
       "      <th>17276</th>\n",
       "      <td>2024-12-30 23:40:00</td>\n",
       "      <td>0.00</td>\n",
       "      <td>0.000000</td>\n",
       "      <td>9392.54</td>\n",
       "    </tr>\n",
       "    <tr>\n",
       "      <th>17277</th>\n",
       "      <td>2024-12-30 23:45:00</td>\n",
       "      <td>-30.50</td>\n",
       "      <td>-0.003247</td>\n",
       "      <td>9362.04</td>\n",
       "    </tr>\n",
       "    <tr>\n",
       "      <th>17278</th>\n",
       "      <td>2024-12-30 23:50:00</td>\n",
       "      <td>0.00</td>\n",
       "      <td>0.000000</td>\n",
       "      <td>9362.04</td>\n",
       "    </tr>\n",
       "    <tr>\n",
       "      <th>17279</th>\n",
       "      <td>2024-12-30 23:55:00</td>\n",
       "      <td>2.22</td>\n",
       "      <td>0.000237</td>\n",
       "      <td>9364.26</td>\n",
       "    </tr>\n",
       "    <tr>\n",
       "      <th>17280</th>\n",
       "      <td>2024-12-31 00:00:00</td>\n",
       "      <td>0.00</td>\n",
       "      <td>0.000000</td>\n",
       "      <td>9364.26</td>\n",
       "    </tr>\n",
       "  </tbody>\n",
       "</table>\n",
       "<p>17281 rows × 4 columns</p>\n",
       "</div>"
      ],
      "text/plain": [
       "                timestamp  total_daily_pnl  total_daily_pnl_pct  total_pnl\n",
       "0     2024-11-01 00:00:00             0.00                  NaN       0.00\n",
       "1     2024-11-01 00:05:00             0.00             0.000000       0.00\n",
       "2     2024-11-01 00:10:00             0.00             0.000000       0.00\n",
       "3     2024-11-01 00:15:00             0.00             0.000000       0.00\n",
       "4     2024-11-01 00:20:00             0.00             0.000000       0.00\n",
       "...                   ...              ...                  ...        ...\n",
       "17276 2024-12-30 23:40:00             0.00             0.000000    9392.54\n",
       "17277 2024-12-30 23:45:00           -30.50            -0.003247    9362.04\n",
       "17278 2024-12-30 23:50:00             0.00             0.000000    9362.04\n",
       "17279 2024-12-30 23:55:00             2.22             0.000237    9364.26\n",
       "17280 2024-12-31 00:00:00             0.00             0.000000    9364.26\n",
       "\n",
       "[17281 rows x 4 columns]"
      ]
     },
     "execution_count": 99,
     "metadata": {},
     "output_type": "execute_result"
    }
   ],
   "source": [
    "pnl_df = model.computePortfolioPnL(test_start_date=\"2024-01-01\")\n",
    "pnl_df"
   ]
  },
  {
   "cell_type": "code",
   "execution_count": 100,
   "id": "fb124569f72e9fed",
   "metadata": {
    "ExecuteTime": {
     "end_time": "2025-06-22T07:23:12.541271Z",
     "start_time": "2025-06-22T07:23:05.605987Z"
    }
   },
   "outputs": [
    {
     "name": "stdout",
     "output_type": "stream",
     "text": [
      "(17281, 2)\n"
     ]
    }
   ],
   "source": [
    "price_fetcher = BinancePriceFetcher(test_pairs)\n",
    "# Fetch pair historical price\n",
    "pair_portfolio_momentum = pair_portfolio[pair_portfolio[\"timestamp\"] >= \"2024-01-01\"].reset_index(drop=True)\n",
    "\n",
    "weights = np.array([1/len(test_pairs) for i in test_pairs])  # Equal-weighted\n",
    "\n",
    "# Initialize strategy\n",
    "strategy = SimpleStrategy(\n",
    "    tickers=test_pairs,\n",
    "    weights=weights,\n",
    "    data=pair_portfolio_momentum\n",
    ")\n",
    "\n",
    "print(pair_portfolio.shape)\n",
    "# Get momentum strategy returns\n",
    "momentum_returns = strategy.momentum_strategy(lookback=30, hold_period=10)"
   ]
  },
  {
   "cell_type": "markdown",
   "id": "b25c848b895778aa",
   "metadata": {},
   "source": [
    "# Comparison"
   ]
  },
  {
   "cell_type": "code",
   "execution_count": 101,
   "id": "eee25549a67d3734",
   "metadata": {
    "ExecuteTime": {
     "end_time": "2025-06-22T07:23:12.631277Z",
     "start_time": "2025-06-22T07:23:12.542154Z"
    }
   },
   "outputs": [
    {
     "name": "stdout",
     "output_type": "stream",
     "text": [
      "            Annualized Return  Annualized Volatility  Sharpe Ratio  \\\n",
      "Momentum             0.000000           0.000000e+00           NaN   \n",
      "Pair_Trade           0.601255           7.257091e+10      0.120972   \n",
      "\n",
      "            Max Drawdown Duration  Max Drawdown  Calmar Ratio    Skewness  \\\n",
      "Momentum                        1      0.000000           NaN         NaN   \n",
      "Pair_Trade                      1     -1.681094      0.357657  131.213567   \n",
      "\n",
      "                Kurtosis  VaR (5%)  CVaR (5%)  Tail Ratio   Omega Ratio  \n",
      "Momentum             NaN -0.003319        NaN    1.050868           NaN  \n",
      "Pair_Trade  17215.000058 -0.003319  -0.082878    1.050868  4.188392e+09  \n"
     ]
    }
   ],
   "source": [
    "returns = pd.DataFrame()\n",
    "returns[\"Momentum\"] = momentum_returns\n",
    "returns[\"Pair_Trade\"] = pnl_df[(\"total_daily_pnl_pct\")]\n",
    "\n",
    "port_metrics = PortfolioMetrics(returns.dropna())\n",
    "summary = port_metrics.summary(risk_free_rate=0)\n",
    "print(summary)"
   ]
  },
  {
   "cell_type": "code",
   "execution_count": 96,
   "id": "70ce8565f3e3f2d4",
   "metadata": {
    "ExecuteTime": {
     "end_time": "2025-06-22T07:23:35.761602Z",
     "start_time": "2025-06-22T07:23:24.495415Z"
    }
   },
   "outputs": [
    {
     "name": "stdout",
     "output_type": "stream",
     "text": [
      "White Reality Check Results:\n",
      "p-value: lower         0.163\n",
      "consistent    0.163\n",
      "upper         0.163\n",
      "dtype: float64\n",
      "Superior strategy indices:\n",
      "[]\n"
     ]
    },
    {
     "data": {
      "text/plain": [
       "[]"
      ]
     },
     "execution_count": 96,
     "metadata": {},
     "output_type": "execute_result"
    }
   ],
   "source": [
    "wrc = WhiteRealityCheck(strategies=returns[\"Pair_Trade\"], benchmark=returns[\"Momentum\"])\n",
    "wrc.run()\n",
    "wrc.superior_strategies()"
   ]
  },
  {
   "cell_type": "code",
   "execution_count": null,
   "id": "ada04a979f8abb8a",
   "metadata": {},
   "outputs": [],
   "source": []
  }
 ],
 "metadata": {
  "kernelspec": {
   "display_name": "base",
   "language": "python",
   "name": "python3"
  },
  "language_info": {
   "codemirror_mode": {
    "name": "ipython",
    "version": 3
   },
   "file_extension": ".py",
   "mimetype": "text/x-python",
   "name": "python",
   "nbconvert_exporter": "python",
   "pygments_lexer": "ipython3",
   "version": "3.8.8"
  }
 },
 "nbformat": 4,
 "nbformat_minor": 5
}
